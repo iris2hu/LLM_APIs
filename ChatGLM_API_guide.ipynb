{
 "cells": [
  {
   "cell_type": "markdown",
   "metadata": {},
   "source": [
    "# ChatGLM API调用说明\n",
    "\n",
    "本文参考：\n",
    "- 智谱AI调用指南：https://open.bigmodel.cn/dev/api\n",
    "  \n",
    "- 使用ChatGLM-6B项目：https://github.com/THUDM/ChatGLM-6B"
   ]
  },
  {
   "cell_type": "markdown",
   "metadata": {},
   "source": [
    "## 一、ChatGLM概览\n",
    "\n",
    "- ChatGLM-6B 是一个**开源的、支持中英双语**的对话语言模型，基于 General Language Model (GLM) 架构，具有 62 亿参数。\n",
    "  \n",
    "- 使用权：ChatGLM-6B 权重**对学术研究完全开放**，在填写github网页的问卷进行登记后**亦允许免费商业使用**。\n",
    "- 可以用来微调的模型：chatglm_130b、chatglm_6b，其它基础模型暂不支持。\n",
    "- 体验中心：https://open.bigmodel.cn/trialcenter\n",
    "- 应用场景：\n",
    "\n",
    "\n",
    "|模型|说明|单价|\n",
    "|:---:|:---:|:---:|\n",
    "|ChatGLM-Pro|适用于对知识量、推理能力、创造力要求较高的场景，比如广告文案、小说写作、知识类写作、代码生成等。|0.01元 / 千tokens|\n",
    "|ChatGLM-Std|适用于需要兼顾效果和成本的场景，比如新闻写作、企业内部知识库、摘要生成、垂直检索等。|0.005元 / 千tokens|\n",
    "|ChatGLM-Lite|适用于对反应速度和成本比较敏感，且任务较为简单的场景，比如聊天、客服、分类、提取等。|0.002元 / 千tokens|"
   ]
  },
  {
   "cell_type": "markdown",
   "metadata": {},
   "source": [
    "## 二、调用ChatGLM"
   ]
  },
  {
   "cell_type": "markdown",
   "metadata": {},
   "source": [
    "### （一）把chatGLM模型部署到本地\n",
    "- 程序包和配置文件放置到同一文件夹：\n",
    "  \n",
    "  - ChatGLM程序包: git clone https://github.com/THUDM/ChatGLM-6B.git\n",
    "  \n",
    "  - chatglm模型的配置文件：https://huggingface.co/THUDM/chatglm-6b-int4/tree/main\n",
    "  \n",
    "- 配置环境：\n",
    "  \n",
    "  - pip install -r requirements.txt\n",
    "  \n",
    "  - pip install zhipuai"
   ]
  },
  {
   "cell_type": "markdown",
   "metadata": {},
   "source": [
    "### （二）获取API key"
   ]
  },
  {
   "cell_type": "markdown",
   "metadata": {},
   "source": [
    "- 在个人账号获取API key：https://open.bigmodel.cn/usercenter/apikeys"
   ]
  },
  {
   "cell_type": "markdown",
   "metadata": {},
   "source": [
    "### （三）三种调用方式\n",
    "- 主要的语言模型分别是：ChatGLM-Pro、ChatGLM-Std、ChatGLM-Lite\n",
    "\n",
    "- 具体参数需查询文档：https://open.bigmodel.cn/dev/api#language"
   ]
  },
  {
   "cell_type": "markdown",
   "metadata": {},
   "source": [
    "1. 同步调用：一次性获取最终结果"
   ]
  },
  {
   "cell_type": "code",
   "execution_count": 8,
   "metadata": {},
   "outputs": [],
   "source": [
    "import zhipuai\n",
    "zhipuai.api_key = \"your api key\" # 修改apikey\n",
    "# 请求模型\n",
    "response = zhipuai.model_api.invoke(\n",
    "    model=\"chatglm_pro\", # 选择模型\n",
    "    prompt=[\n",
    "        {\"role\": \"user\", \"content\": \"你好\"},\n",
    "        {\"role\": \"assistant\", \"content\": \"我是人工智能助手\"},\n",
    "        {\"role\": \"user\", \"content\": \"你叫什么名字\"},\n",
    "        {\"role\": \"assistant\", \"content\": \"我叫chatGLM\"},\n",
    "        {\"role\":\"user\", \"content\":\"你都可以做些什么事\"},\n",
    "    ]\n",
    ")"
   ]
  },
  {
   "cell_type": "code",
   "execution_count": 9,
   "metadata": {},
   "outputs": [
    {
     "data": {
      "text/plain": [
       "{'code': 200,\n",
       " 'msg': '操作成功',\n",
       " 'data': {'request_id': '7917474139477614706',\n",
       "  'task_id': '7917474139477614706',\n",
       "  'task_status': 'SUCCESS',\n",
       "  'choices': [{'role': 'assistant',\n",
       "    'content': '\" 我是一个人工智能助手，可以回答各种问题、提供建议和执行一些任务。我的功能包括但不限于：\\\\n\\\\n1. 回答一般知识问题，如科学、历史、文化、地理等。  \\\\n2. 回答日常生活问题，如烹饪、旅行、健康、时尚等。  \\\\n3. 提供实用建议，如维修、保养、投资、理财等。  \\\\n4. 帮助学习，如语言学习、技能学习、学科知识等。  \\\\n5. 娱乐休闲，如笑话、谜语、游戏、音乐等。  \\\\n6. 情感支持，如心理咨询、安慰、鼓励等。\\\\n\\\\n需要注意的是，虽然我尽力提供准确和有用的信息，但我的回答可能并不完全准确或适用于特定情况。在做出重要决策时，请务必寻求专业意见。\"'}],\n",
       "  'usage': {'total_tokens': 166}},\n",
       " 'success': True}"
      ]
     },
     "execution_count": 9,
     "metadata": {},
     "output_type": "execute_result"
    }
   ],
   "source": [
    "response"
   ]
  },
  {
   "cell_type": "markdown",
   "metadata": {},
   "source": [
    "2. 异步调用：调用后会立即返回一个任务 ID ，然后用任务ID查询调用结果"
   ]
  },
  {
   "cell_type": "code",
   "execution_count": 4,
   "metadata": {},
   "outputs": [
    {
     "data": {
      "text/plain": [
       "{'code': 200,\n",
       " 'msg': '操作成功',\n",
       " 'data': {'request_id': '7917474173837362227',\n",
       "  'task_id': '161016938992728027917474173837362229',\n",
       "  'task_status': 'PROCESSING'},\n",
       " 'success': True}"
      ]
     },
     "execution_count": 4,
     "metadata": {},
     "output_type": "execute_result"
    }
   ],
   "source": [
    "import zhipuai\n",
    "\n",
    "zhipuai.api_key = \"your api key\" # 修改apikey\n",
    "response = zhipuai.model_api.async_invoke(\n",
    "    model=\"chatglm_pro\", # 选择模型\n",
    "    prompt=[\n",
    "        {\"role\": \"user\", \"content\": \"你好\"},\n",
    "        {\"role\": \"assistant\", \"content\": \"我是人工智能助手\"},\n",
    "        {\"role\": \"user\", \"content\": \"你叫什么名字\"},\n",
    "        {\"role\": \"assistant\", \"content\": \"我叫chatGLM\"},\n",
    "        {\"role\":\"user\", \"content\":\"你都可以做些什么事\"},\n",
    "    ]\n",
    ")\n",
    "response # 异步调用响应示例"
   ]
  },
  {
   "cell_type": "code",
   "execution_count": 7,
   "metadata": {},
   "outputs": [
    {
     "data": {
      "text/plain": [
       "{'code': 200,\n",
       " 'msg': '操作成功',\n",
       " 'data': {'request_id': '7917474173837362227',\n",
       "  'task_id': '161016938992728027917474173837362229',\n",
       "  'task_status': 'SUCCESS',\n",
       "  'choices': [{'role': 'assistant',\n",
       "    'content': '\" 我是一个人工智能助手，可以回答各种问题、提供建议和执行一些基本任务。我的功能包括但不限于：\\\\n\\\\n1. 回答各种问题：我可以回答关于历史、地理、科学、数学、文化、语言等方面的问题。\\\\n\\\\n2. 提供实用建议：我可以提供一些生活、健康、教育、职业等方面的建议。\\\\n\\\\n3. 执行基本任务：我可以帮忙设置提醒事项、管理日历、查询天气、打开网页等。\\\\n\\\\n4. 学习和适应：我可以通过不断地学习和与用户互动来提高自己的能力和知识水平。\\\\n\\\\n需要注意的是，虽然我是一个人工智能助手，但我并不是万能的。有些问题我可能无法回答，有些任务我可能无法执行。但我会尽我最大的努力来帮助您。\"'}],\n",
       "  'usage': {'total_tokens': 157}},\n",
       " 'success': True}"
      ]
     },
     "execution_count": 7,
     "metadata": {},
     "output_type": "execute_result"
    }
   ],
   "source": [
    "# 查询调用示例\n",
    "response = zhipuai.model_api.query_async_invoke_result(\"161016938992728027917474173837362229\")\n",
    "response"
   ]
  },
  {
   "cell_type": "markdown",
   "metadata": {},
   "source": [
    "3. SSE调用：调用后可以流式地实时获取到结果直到结束"
   ]
  },
  {
   "cell_type": "code",
   "execution_count": 1,
   "metadata": {},
   "outputs": [
    {
     "name": "stdout",
     "output_type": "stream",
     "text": [
      " 我\n",
      "是一个\n",
      "人工智能\n",
      "助手\n",
      "，\n",
      "可以\n",
      "回答\n",
      "各种\n",
      "问题\n",
      "、\n",
      "提供\n",
      "建议\n",
      "和\n",
      "执行\n",
      "一些\n",
      "基本\n",
      "任务\n",
      "。\n",
      "我的\n",
      "功能\n",
      "包括但不限\n",
      "于\n",
      "：\n",
      "\n",
      "\n",
      "1\n",
      ".\n",
      " \n",
      "回答\n",
      "各种\n",
      "问题\n",
      "：\n",
      "我可以\n",
      "回答\n",
      "各种\n",
      "领域\n",
      "的问题\n",
      "，\n",
      "例如\n",
      "科学\n",
      "、\n",
      "技术\n",
      "、\n",
      "历史\n",
      "、\n",
      "文化\n",
      "、\n",
      "健康\n",
      "等\n",
      "。\n",
      "\n",
      "\n",
      "2\n",
      ".\n",
      " 提供\n",
      "建议\n",
      "：\n",
      "我可以\n",
      "根据\n",
      "您的\n",
      "需求\n",
      "和\n",
      "情况\n",
      "提供\n",
      "一些\n",
      "建议\n",
      "，\n",
      "例如\n",
      "生活\n",
      "、\n",
      "职业\n",
      "、\n",
      "学习\n",
      "等\n",
      "。\n",
      "\n",
      "\n",
      "3\n",
      ".\n",
      " \n",
      "执行\n",
      "基本\n",
      "任务\n",
      "：\n",
      "我可以\n",
      "帮助\n",
      "您\n",
      "执行\n",
      "一些\n",
      "基本\n",
      "任务\n",
      "，\n",
      "例如\n",
      "查询\n",
      "天气\n",
      "、\n",
      "翻译\n",
      "语言\n",
      "、\n",
      "计算\n",
      "数学\n",
      "问题\n",
      "等\n",
      "。\n",
      "\n",
      "\n",
      "4\n",
      ".\n",
      " \n",
      "娱乐\n",
      "休闲\n",
      "：\n",
      "我可以\n",
      "与\n",
      "您\n",
      "聊天\n",
      "、\n",
      "讲\n",
      "笑话\n",
      "、\n",
      "推荐\n",
      "电影\n",
      "、\n",
      "音乐\n",
      "等\n",
      "，\n",
      "帮助\n",
      "您\n",
      "放松\n",
      "心情\n",
      "。\n",
      "\n",
      "{\"task_status\":\"SUCCESS\",\"usage\":{\"total_tokens\":131},\"task_id\":\"7917473933319167335\",\"request_id\":\"7917473933319167335\"}\n"
     ]
    }
   ],
   "source": [
    "# SSE调用\n",
    "import zhipuai\n",
    "\n",
    "zhipuai.api_key = \"your api key\" # 修改apikey\n",
    "response = zhipuai.model_api.sse_invoke(\n",
    "    model=\"chatglm_pro\", # 选择模型\n",
    "    prompt=[\n",
    "        {\"role\": \"user\", \"content\": \"你好\"},\n",
    "        {\"role\": \"assistant\", \"content\": \"我是人工智能助手\"},\n",
    "        {\"role\": \"user\", \"content\": \"你叫什么名字\"},\n",
    "        {\"role\": \"assistant\", \"content\": \"我叫chatGLM\"},\n",
    "        {\"role\":\"user\", \"content\": \"你都可以做些什么事\"},\n",
    "    ],\n",
    "    temperature=0.95,\n",
    "    top_p=0.7,\n",
    "    incremental=True\n",
    ")\n",
    "\n",
    "for event in response.events():\n",
    "  if event.event == \"add\":\n",
    "      print(event.data)\n",
    "  elif event.event == \"error\" or event.event == \"interrupted\":\n",
    "      print(event.data)\n",
    "  elif event.event == \"finish\":\n",
    "      print(event.data)\n",
    "      print(event.meta)\n",
    "  else:\n",
    "      print(event.data)"
   ]
  }
 ],
 "metadata": {
  "kernelspec": {
   "display_name": "base",
   "language": "python",
   "name": "python3"
  },
  "language_info": {
   "codemirror_mode": {
    "name": "ipython",
    "version": 3
   },
   "file_extension": ".py",
   "mimetype": "text/x-python",
   "name": "python",
   "nbconvert_exporter": "python",
   "pygments_lexer": "ipython3",
   "version": "3.9.12"
  },
  "orig_nbformat": 4
 },
 "nbformat": 4,
 "nbformat_minor": 2
}
