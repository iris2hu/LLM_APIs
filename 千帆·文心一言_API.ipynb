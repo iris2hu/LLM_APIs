{
 "cells": [
  {
   "cell_type": "markdown",
   "metadata": {},
   "source": [
    "# 零、简介\n",
    "1、百度智能云千帆大模型平台是面向企业开发者的一站式大模型开发及服务运行平台。千帆不仅提供了包括文心一言底层模型（ERNIE-Bot）和第三方开源大模型，还提供了各种AI开发工具和整套开发环境，方便客户轻松使用和开发大模型应用。支持数据管理、自动化模型SFT以及推理服务云端部署的一站式大模型定制服务，助力各行业的生成式AI应用需求落地。"
   ]
  },
  {
   "cell_type": "markdown",
   "metadata": {},
   "source": [
    "# 一、API 列表：\n",
    "[API列表](https://cloud.baidu.com/doc/WENXINWORKSHOP/s/Nlks5zkzu)"
   ]
  },
  {
   "cell_type": "markdown",
   "metadata": {},
   "source": [
    "# 二、API 调用流程简介：\n",
    "![图片alt](https://bce.bdstatic.com/doc/bml_enterprise/wenxinqianfan/image_0011ec0.png)\n",
    "### 1、创建应用。根据实际需求创建千帆应用，创建成功后，获取AppID、API Key、Secret Key 等信息。\n",
    "### 2、API授权。对应用的 AppID 进行授权。\n",
    "### 3、获取访问凭证。根据第1步获取的API Key和Secret Key，调用获取access_token接口获取access_token，通过access_token鉴权调用者身份。\n",
    "### 4、调用接口。例如调用ERNIE-Bot相关接口，详见API列表。"
   ]
  },
  {
   "cell_type": "markdown",
   "metadata": {},
   "source": [
    "# 三、API 调用详细流程\n",
    "### 1、创建千帆应用\n",
    "（1）注册并登录百度智能云千帆控制台。\n",
    "[百度智能云千帆控制台](https://login.bce.baidu.com/?redirect=https%3A%2F%2Fconsole.bce.baidu.com%2Fqianfan%2Fais%2Fconsole%2FapplicationConsole%2Fapplication)\n",
    "注：为保障服务稳定运行，账户最好不处于欠费状态。\n",
    "（2）进入控制台创建千帆应用\n",
    "（3）创建应用后，获取AppID、API Key、Secret Key。\n",
    "![图片alt](https://bce.bdstatic.com/doc/ai-cloud-share/WENXINWORKSHOP/image_68d25d0.png)\n",
    "### 2、服务授权\n",
    "应用创建后，选择对应授权的公有云服务。\n",
    "### 3、获取访问凭证\n",
    "根据步骤一获取的API Key、Secret Key，获取access_token。参考以下获取access_token，更多详情方法请参考[获取access_token](https://cloud.baidu.com/doc/WENXINWORKSHOP/s/Ilkkrb0i5)。\n",
    "注：access_token默认有效期30天，生产环境注意及时刷新。"
   ]
  },
  {
   "cell_type": "code",
   "execution_count": null,
   "metadata": {},
   "outputs": [],
   "source": [
    "\n",
    "# 填充API Key与Secret Key\n",
    "import requests\n",
    "import json\n",
    "\n",
    "\n",
    "def main():\n",
    "        \n",
    "    url = \"https://aip.baidubce.com/oauth/2.0/token?client_id=【API Key】&client_secret=【Secret Key】&grant_type=client_credentials\"\n",
    "    \n",
    "    payload = json.dumps(\"\")\n",
    "    headers = {\n",
    "        'Content-Type': 'application/json',\n",
    "        'Accept': 'application/json'\n",
    "    }\n",
    "    \n",
    "    response = requests.request(\"POST\", url, headers=headers, data=payload)\n",
    "    \n",
    "    return response.json().get(\"access_token\")\n",
    "    \n",
    "\n",
    "if __name__ == '__main__':\n",
    "    access_token = main()\n",
    "    print(access_token)"
   ]
  },
  {
   "cell_type": "markdown",
   "metadata": {},
   "source": [
    "### 4、调用API接口\n",
    "调用ERNIE-Bot相关接口，详见API列表。"
   ]
  },
  {
   "cell_type": "markdown",
   "metadata": {},
   "source": [
    "# 四、在线调试\n",
    "百度智能云千帆提供了[API在线调试平台-示例代码](https://console.bce.baidu.com/tools/#/api?product=AI&project=%E5%8D%83%E5%B8%86%E5%A4%A7%E6%A8%A1%E5%9E%8B%E5%B9%B3%E5%8F%B0&parent=%E9%89%B4%E6%9D%83%E8%AE%A4%E8%AF%81%E6%9C%BA%E5%88%B6&api=oauth/2.0/token&method=post)，用于帮助开发者调试接口，平台集成快速检索、查看开发文档、查看在线调用的请求内容和返回结果、复制和下载示例代码等功能。"
   ]
  },
  {
   "cell_type": "code",
   "execution_count": null,
   "metadata": {},
   "outputs": [],
   "source": [
    "\n",
    "# API在线调试平台-示例代码（python版）\n",
    "import requests\n",
    "import json\n",
    "\n",
    "\n",
    "def main():\n",
    "        \n",
    "    url = \"https://aip.baidubce.com/oauth/2.0/token?client_id=&client_secret=&grant_type=client_credentials\"\n",
    "    \n",
    "    payload = json.dumps(\"\")\n",
    "    headers = {\n",
    "        'Content-Type': 'application/json',\n",
    "        'Accept': 'application/json'\n",
    "    }\n",
    "    \n",
    "    response = requests.request(\"POST\", url, headers=headers, data=payload)\n",
    "    \n",
    "    print(response.text)\n",
    "    \n",
    "\n",
    "if __name__ == '__main__':\n",
    "    main()\n"
   ]
  },
  {
   "cell_type": "markdown",
   "metadata": {},
   "source": [
    "# 五、购买指南\n",
    "1、千帆大模型平台目前需要开通付费后可进入操作台使用。可以在[计费管理](https://console.bce.baidu.com/qianfan/chargemanage/list)页面开通付费。进入智能云控制台后，在概览页可以看到已开通付费的公有云服务以及用量情况。\n",
    "2、目前所使用的调用服务功能均为按量后付费。根据实际的输入及输出总和tokens数量，系统每小时会对百度智能云账户进行扣费。\n",
    "3、在[查看用量](https://console.bce.baidu.com/qianfan/ais/console/usageConsole/application)页面可查看调用统计。\n"
   ]
  },
  {
   "cell_type": "markdown",
   "metadata": {},
   "source": [
    "# 六、实操演示"
   ]
  },
  {
   "cell_type": "code",
   "execution_count": null,
   "metadata": {},
   "outputs": [],
   "source": [
    "# 问答测试\n",
    "import json\n",
    "\n",
    "import requests\n",
    "\n",
    "\n",
    "def get_access_token():\n",
    "    \"\"\"\n",
    "    使用 API Key，Secret Key 获取access_token，替换下列示例中的应用API Key、应用Secret Key\n",
    "    \"\"\"\n",
    "        \n",
    "    url = \"https://aip.baidubce.com/oauth/2.0/token?grant_type=client_credentials&client_id=k4a1pRpHhZDvzGRGFIDBlx1C&client_secret=NCCWgYQ4jOQ6RgoCfI2GH0DGBivRGCNf\"\n",
    "    \n",
    "    payload = json.dumps(\"\")\n",
    "    headers = {\n",
    "        'Content-Type': 'application/json',\n",
    "        'Accept': 'application/json'\n",
    "    }\n",
    "    \n",
    "    response = requests.request(\"POST\", url, headers=headers, data=payload)\n",
    "    return response.json().get(\"access_token\")\n",
    "\n",
    "def main():\n",
    "    url = \"https://aip.baidubce.com/rpc/2.0/ai_custom/v1/wenxinworkshop/chat/completions?access_token=\" + get_access_token()\n",
    "    \n",
    "    payload = json.dumps({\n",
    "        \"messages\": [\n",
    "            {\n",
    "                \"role\": \"user\",\n",
    "                \"content\": \"请你介绍一下北京师范大学\"\n",
    "            }\n",
    "        ]\n",
    "    })\n",
    "    headers = {\n",
    "        'Content-Type': 'application/json'\n",
    "    }\n",
    "    \n",
    "    response = requests.request(\"POST\", url, headers=headers, data=payload)\n",
    "    \n",
    "    print(response.text)\n",
    "    \n",
    "\n",
    "if __name__ == '__main__':\n",
    "    main()"
   ]
  },
  {
   "cell_type": "markdown",
   "metadata": {},
   "source": [
    "北京师范大学简称“北师大”，由中华人民共和国教育部直属，中央直管副部级建制，位列“211工程”、“985工程”，入选国家“珠峰计划”、“2011计划”、“111计划”、“卓越法律人才教育培养计划”，设有研究生院，是一所以教师教育、教育科学和文理基础学科为主要特色的综合性全国重点大学。\\n北京师范大学的前身是1902年创立的京师大学堂师范馆；1908年，改称京师优级师范学堂，独立设校。1912年，改名为北京高等师范学校。1923年，学校更名为北京师范大学，成为中国历史上第一所师范大学。1931年，北平女子师范大学并入北京师范大学。1950年，毛主席为北京师范大学亲笔题写校名；1952年，辅仁大学并入北京师范大学。2002年百年校庆之际，中华人民共和国教育部和北京市决定重点共建北京师范大学；2002年5月，北京市第九次党代会将北京师范大学列入支持建设的世界一流大学的行列。\\n\\n北京师范大学占地面积1191亩(海淀校园、西城校园、昌平校园G区)，是学校教育教学活动的主要集中地。全日制在校生24000余人，本科生10105人、研究生12756人、长期留学生1600余人。现设3个学部、23个学院、2个系、10个研究院(所)。现有本科专业74个、硕士学位授权一级学科39个、博士学位授权一级学科28个、硕士学位授权二级学科点146个、博士学位授权二级学科点114个、博士后科研流动站25个。\\n\\n北京师范大学是教育部直属重点大学，是一所以教师教育、教育科学和文理基础学科为主要特色的著名学府。学校秉承“爱国进步、诚信质朴、求真创新、为人师表”的优良传统和“学为人师，行为世范”的校训精神，形成了“治学修身，兼济天下”的育人理念。北京师范大学是国家和地方政府重点建设的研究型大学，是国家实施“基础学科拔尖学生培养试验计划”的高校之一（北京仅3所：北大、清华和北师大），也是承担国家教育体制改革试点项目“基础学科拔尖学生培养试验计划”的高校之一。\n",
    "\n",
    "注：日期、事件无大错误；数据方面存在小错误。"
   ]
  },
  {
   "cell_type": "code",
   "execution_count": null,
   "metadata": {},
   "outputs": [],
   "source": [
    "# 文学创作\n",
    "import json\n",
    "\n",
    "import requests\n",
    "\n",
    "\n",
    "def get_access_token():\n",
    "    \"\"\"\n",
    "    使用 API Key，Secret Key 获取access_token，替换下列示例中的应用API Key、应用Secret Key\n",
    "    \"\"\"\n",
    "        \n",
    "    url = \"https://aip.baidubce.com/oauth/2.0/token?grant_type=client_credentials&client_id=k4a1pRpHhZDvzGRGFIDBlx1C&client_secret=NCCWgYQ4jOQ6RgoCfI2GH0DGBivRGCNf\"\n",
    "    \n",
    "    payload = json.dumps(\"\")\n",
    "    headers = {\n",
    "        'Content-Type': 'application/json',\n",
    "        'Accept': 'application/json'\n",
    "    }\n",
    "    \n",
    "    response = requests.request(\"POST\", url, headers=headers, data=payload)\n",
    "    return response.json().get(\"access_token\")\n",
    "\n",
    "def main():\n",
    "    url = \"https://aip.baidubce.com/rpc/2.0/ai_custom/v1/wenxinworkshop/chat/completions?access_token=\" + get_access_token()\n",
    "    \n",
    "    payload = json.dumps({\n",
    "        \"messages\": [\n",
    "            {\n",
    "                \"role\": \"user\",\n",
    "                \"content\": \"用“百度文心”创作一首藏头诗\"\n",
    "            }\n",
    "        ]\n",
    "    })\n",
    "    headers = {\n",
    "        'Content-Type': 'application/json'\n",
    "    }\n",
    "    \n",
    "    response = requests.request(\"POST\", url, headers=headers, data=payload)\n",
    "    \n",
    "    print(response.text)\n",
    "    \n",
    "\n",
    "if __name__ == '__main__':\n",
    "    main()"
   ]
  },
  {
   "cell_type": "markdown",
   "metadata": {},
   "source": [
    "百战始取边城功，\\n度人心要似虚空。\\n文江学海思济航，\\n心知不敢辄形相。"
   ]
  }
 ],
 "metadata": {
  "kernelspec": {
   "display_name": "Python 3.8.13 ('py38')",
   "language": "python",
   "name": "python3"
  },
  "language_info": {
   "name": "python",
   "version": "3.8.13"
  },
  "orig_nbformat": 4,
  "vscode": {
   "interpreter": {
    "hash": "542f8dec1d44f1b30970fefcc6625e8d4396f3d8bd031cd6063ed300d7db0ba6"
   }
  }
 },
 "nbformat": 4,
 "nbformat_minor": 2
}
