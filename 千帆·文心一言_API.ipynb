{
 "cells": [
  {
   "cell_type": "markdown",
   "metadata": {},
   "source": [
    "# 一、API 列表：\n",
    "[API列表](https://cloud.baidu.com/doc/WENXINWORKSHOP/s/Nlks5zkzu)\n"
   ]
  },
  {
   "cell_type": "markdown",
   "metadata": {},
   "source": [
    "# 二、API 调用流程简介：\n",
    "![图片alt](https://bce.bdstatic.com/doc/bml_enterprise/wenxinqianfan/image_0011ec0.png)\n",
    "### 1、创建应用。根据实际需求创建千帆应用，创建成功后，获取AppID、API Key、Secret Key 等信息。\n",
    "### 2、API授权。对应用的 AppID 进行授权。\n",
    "### 3、获取访问凭证。根据第1步获取的API Key和Secret Key，调用获取access_token接口获取access_token，通过access_token鉴权调用者身份。\n",
    "### 4、调用接口。例如调用ERNIE-Bot相关接口，详见API列表。"
   ]
  },
  {
   "cell_type": "markdown",
   "metadata": {},
   "source": [
    "# 三、API 调用详细流程\n",
    "### 1、创建千帆应用\n",
    "（1）注册并登录百度智能云千帆控制台。\n",
    "[百度智能云千帆控制台](https://login.bce.baidu.com/?redirect=https%3A%2F%2Fconsole.bce.baidu.com%2Fqianfan%2Fais%2Fconsole%2FapplicationConsole%2Fapplication)\n",
    "注：为保障服务稳定运行，账户最好不处于欠费状态。\n",
    "（2）进入控制台创建千帆应用\n",
    "（3）创建应用后，获取AppID、API Key、Secret Key。\n",
    "![图片alt](https://bce.bdstatic.com/doc/ai-cloud-share/WENXINWORKSHOP/image_68d25d0.png)\n",
    "### 2、服务授权\n",
    "应用创建后，选择对应授权的公有云服务。\n",
    "### 3、获取访问凭证\n",
    "根据步骤一获取的API Key、Secret Key，获取access_token。参考以下获取access_token，更多详情方法请参考[获取access_token](https://cloud.baidu.com/doc/WENXINWORKSHOP/s/Ilkkrb0i5)。\n",
    "注：access_token默认有效期30天，生产环境注意及时刷新。"
   ]
  },
  {
   "cell_type": "code",
   "execution_count": null,
   "metadata": {},
   "outputs": [],
   "source": [
    "\n",
    "# 填充API Key与Secret Key\n",
    "import requests\n",
    "import json\n",
    "\n",
    "\n",
    "def main():\n",
    "        \n",
    "    url = \"https://aip.baidubce.com/oauth/2.0/token?client_id=【API Key】&client_secret=【Secret Key】&grant_type=client_credentials\"\n",
    "    \n",
    "    payload = json.dumps(\"\")\n",
    "    headers = {\n",
    "        'Content-Type': 'application/json',\n",
    "        'Accept': 'application/json'\n",
    "    }\n",
    "    \n",
    "    response = requests.request(\"POST\", url, headers=headers, data=payload)\n",
    "    \n",
    "    return response.json().get(\"access_token\")\n",
    "    \n",
    "\n",
    "if __name__ == '__main__':\n",
    "    access_token = main()\n",
    "    print(access_token)"
   ]
  },
  {
   "cell_type": "markdown",
   "metadata": {},
   "source": [
    "### 4、调用API接口\n",
    "调用ERNIE-Bot相关接口，详见API列表。"
   ]
  },
  {
   "cell_type": "markdown",
   "metadata": {},
   "source": [
    "# 四、在线调试\n",
    "百度智能云千帆提供了[API在线调试平台-示例代码](https://console.bce.baidu.com/tools/#/api?product=AI&project=%E5%8D%83%E5%B8%86%E5%A4%A7%E6%A8%A1%E5%9E%8B%E5%B9%B3%E5%8F%B0&parent=%E9%89%B4%E6%9D%83%E8%AE%A4%E8%AF%81%E6%9C%BA%E5%88%B6&api=oauth/2.0/token&method=post)，用于帮助开发者调试接口，平台集成快速检索、查看开发文档、查看在线调用的请求内容和返回结果、复制和下载示例代码等功能。"
   ]
  },
  {
   "cell_type": "code",
   "execution_count": null,
   "metadata": {},
   "outputs": [],
   "source": [
    "\n",
    "# API在线调试平台-示例代码（python版）\n",
    "import requests\n",
    "import json\n",
    "\n",
    "\n",
    "def main():\n",
    "        \n",
    "    url = \"https://aip.baidubce.com/oauth/2.0/token?client_id=&client_secret=&grant_type=client_credentials\"\n",
    "    \n",
    "    payload = json.dumps(\"\")\n",
    "    headers = {\n",
    "        'Content-Type': 'application/json',\n",
    "        'Accept': 'application/json'\n",
    "    }\n",
    "    \n",
    "    response = requests.request(\"POST\", url, headers=headers, data=payload)\n",
    "    \n",
    "    print(response.text)\n",
    "    \n",
    "\n",
    "if __name__ == '__main__':\n",
    "    main()\n"
   ]
  },
  {
   "cell_type": "markdown",
   "metadata": {},
   "source": [
    "# 五、购买指南\n",
    "千帆大模型平台目前需要开通付费后可进入操作台使用。可以在[计费管理](https://console.bce.baidu.com/qianfan/chargemanage/list)页面开通付费。进入智能云控制台后，在概览页可以看到已开通付费的公有云服务以及用量情况。\n",
    "目前所使用的调用服务功能均为按量后付费。根据实际的输入及输出总和tokens数量，系统每小时会对百度智能云账户进行扣费。\n",
    "在[查看用量](https://console.bce.baidu.com/qianfan/ais/console/usageConsole/application)页面可查看调用统计。\n"
   ]
  }
 ],
 "metadata": {
  "kernelspec": {
   "display_name": "Python 3.8.13 ('py38')",
   "language": "python",
   "name": "python3"
  },
  "language_info": {
   "name": "python",
   "version": "3.8.13"
  },
  "orig_nbformat": 4,
  "vscode": {
   "interpreter": {
    "hash": "542f8dec1d44f1b30970fefcc6625e8d4396f3d8bd031cd6063ed300d7db0ba6"
   }
  }
 },
 "nbformat": 4,
 "nbformat_minor": 2
}
